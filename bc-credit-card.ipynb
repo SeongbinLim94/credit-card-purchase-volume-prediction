{
 "cells": [
  {
   "cell_type": "markdown",
   "metadata": {},
   "source": [
    "# Code required for CRISP-DM"
   ]
  },
  {
   "cell_type": "code",
   "execution_count": null,
   "metadata": {},
   "outputs": [],
   "source": [
    "import pandas as pd\n",
    "import numpy as np\n",
    "import matplotlib.pyplot as plt\n",
    "%matplotlib inline\n",
    "import seaborn as sns\n",
    "\n",
    "from matplotlib import font_manager, rc\n",
    "\n",
    "from sklearn.preprocessing import LabelEncoder\n",
    "from sklearn.model_selection import train_test_split\n",
    "from sklearn.ensemble import RandomForestRegressor\n",
    "from sklearn.metrics import mean_squared_error\n",
    "\n",
    "from sklearn.svm import SVR\n",
    "from sklearn.pipeline import Pipeline\n",
    "\n",
    "import joblib"
   ]
  },
  {
   "cell_type": "code",
   "execution_count": null,
   "metadata": {},
   "outputs": [],
   "source": [
    "def load_data():\n",
    "    '''Returns dataframe, loading raw data'''\n",
    "    \n",
    "    df = pd.read_csv('data/201901-202003.csv')\n",
    "    \n",
    "    return df"
   ]
  },
  {
   "cell_type": "code",
   "execution_count": null,
   "metadata": {},
   "outputs": [],
   "source": [
    "def create_year(col):\n",
    "    '''Returns year from the form of YYYYMM'''\n",
    "    \n",
    "    col = str(col)\n",
    "    return int(col[:4])\n",
    "\n",
    "def create_month(col):\n",
    "    '''Returns month from the form of YYYYMM'''\n",
    "    \n",
    "    col = str(col)\n",
    "    return int(col[4:])"
   ]
  },
  {
   "cell_type": "code",
   "execution_count": null,
   "metadata": {},
   "outputs": [],
   "source": [
    "def clean_dataframe(df):\n",
    "    '''Returns dataframe with year and month column, and without REG_YYMM column'''\n",
    "    \n",
    "    df['year'] = df['REG_YYMM'].apply(lambda x: create_year(x))\n",
    "    df['month'] = df['REG_YYMM'].apply(lambda x: create_month(x))\n",
    "    df = df.drop(['REG_YYMM'], axis=1)\n",
    "    \n",
    "    return df"
   ]
  },
  {
   "cell_type": "code",
   "execution_count": null,
   "metadata": {},
   "outputs": [],
   "source": [
    "def plot_distribution(df):\n",
    "    '''Plots 4 distributions from the dataframe: CARD_SIDO_NM, STD_CLSS_NM, AGE, FLC'''\n",
    "    \n",
    "    # Make Korean language work in plots\n",
    "    plt.rcParams['axes.unicode_minus'] = False\n",
    "    f_path = \"c:/Windows/Fonts/malgun.ttf\"\n",
    "    font_name = font_manager.FontProperties(fname=f_path).get_name()\n",
    "    rc('font', family=font_name)\n",
    "    \n",
    "    cols = ['CARD_SIDO_NM', 'STD_CLSS_NM', 'AGE', 'FLC']\n",
    "    indices = []\n",
    "    counts = []\n",
    "    \n",
    "    for col in cols:\n",
    "        indices.append(df[col].value_counts().index)\n",
    "        counts.append(df[col].value_counts().values)\n",
    "        \n",
    "    plt.figure(figsize=(20, 40))\n",
    "    plt.subplot(2, 2, 1)\n",
    "    plt.bar(indices[0], counts[0])\n",
    "    plt.subplot(2, 2, 2)\n",
    "    plt.bar(indices[1], counts[1])\n",
    "    plt.xticks(rotation='vertical')\n",
    "    plt.subplot(2, 2, 3)\n",
    "    plt.bar(indices[2], counts[2])\n",
    "    plt.subplot(2, 2, 4)\n",
    "    plt.bar(indices[3], counts[3])\n",
    "    plt.show()"
   ]
  },
  {
   "cell_type": "code",
   "execution_count": null,
   "metadata": {},
   "outputs": [],
   "source": [
    "def prepare_data(df):\n",
    "    '''Returns dataframe with given aggregated columns and drops other unnecessary columns'''\n",
    "    \n",
    "    cols = ['CARD_SIDO_NM', 'STD_CLSS_NM', 'HOM_SIDO_NM', 'AGE', 'SEX_CTGO_CD',\n",
    "            'FLC', 'year', 'month']\n",
    "    df = df.groupby(cols).sum().reset_index(drop=False)\n",
    "    \n",
    "    return df"
   ]
  },
  {
   "cell_type": "code",
   "execution_count": null,
   "metadata": {},
   "outputs": [],
   "source": [
    "def encode_label(df):\n",
    "    '''Encodes categorical variables to prepare modeling'''\n",
    "    \n",
    "    dtypes = df.dtypes\n",
    "    label_encoders = {}\n",
    "    \n",
    "    for column in df.columns:\n",
    "        if str(dtypes[column]) == 'object':\n",
    "            encoder = LabelEncoder()\n",
    "            encoder.fit(df[column])\n",
    "            label_encoders[column] = encoder\n",
    "    \n",
    "    for column in label_encoders.keys():\n",
    "        encoder = label_encoders[column]\n",
    "        df[column] = encoder.transform(df[column])\n",
    "        \n",
    "    return df, label_encoders"
   ]
  },
  {
   "cell_type": "code",
   "execution_count": null,
   "metadata": {},
   "outputs": [],
   "source": [
    "def engineer_features(df):\n",
    "    '''Splits the features and the target variable'''\n",
    "    \n",
    "    features = df.drop(['AMT', 'CNT'], axis=1)\n",
    "    target = df['AMT'].apply(lambda x: np.log(x))\n",
    "    return features, target"
   ]
  },
  {
   "cell_type": "code",
   "execution_count": null,
   "metadata": {},
   "outputs": [],
   "source": [
    "def plot_flc_graph(df):\n",
    "    '''Plots FLC to the sum of purchase volume graph'''\n",
    "    \n",
    "    flc_sum_amt = df.groupby('FLC').sum()['AMT']\n",
    "\n",
    "    print(flc_sum_amt)\n",
    "    plt.bar(flc_sum_amt.index, np.log10(flc_sum_amt.values))\n",
    "    plt.show;"
   ]
  },
  {
   "cell_type": "code",
   "execution_count": null,
   "metadata": {},
   "outputs": [],
   "source": [
    "def plot_clss_graph(df):\n",
    "    '''Plots industry domains to the sum of purchase volume graph'''\n",
    "    \n",
    "    clss_sum_amt = df.groupby('STD_CLSS_NM').sum()['AMT'] \\\n",
    "                     .sort_values(ascending=False)\n",
    "\n",
    "    print(clss_sum_amt)\n",
    "    plt.figure(figsize=(20,10))\n",
    "    plt.bar(clss_sum_amt.index, np.log10(clss_sum_amt.values))\n",
    "    plt.xticks(rotation='vertical')\n",
    "    plt.show;"
   ]
  },
  {
   "cell_type": "code",
   "execution_count": null,
   "metadata": {},
   "outputs": [],
   "source": [
    "def plot_month_graph(df):\n",
    "    '''Plots the median purchase volume graph accross the each month'''\n",
    "    \n",
    "    month_median_amt = df.groupby('month').median()['AMT']\n",
    "    \n",
    "    print(month_median_amt)\n",
    "    plt.bar(month_median_amt.index, np.log10(month_median_amt.values))\n",
    "    plt.xticks(month_median_amt.index)\n",
    "    plt.show;"
   ]
  },
  {
   "cell_type": "code",
   "execution_count": null,
   "metadata": {},
   "outputs": [],
   "source": [
    "def svr_pipeline(features, target):\n",
    "    x_train, x_test, y_train, y_test = train_test_split(features, target,\n",
    "                                                        test_size =0.33, random_state=8)\n",
    "    \n",
    "    parameters = {'kernel':('linear', 'rbf'),\n",
    "                  'C':[1, 10],\n",
    "                  'tol':[0.0001, 0.001, 0.01]}\n",
    "    \n",
    "    svr = SVR(cache_size=8192)\n",
    "    \n",
    "    reg = GridSearchCV(svr, parameters)\n",
    "    reg.fit(x_train, y_train)\n",
    "    \n",
    "    y_pred = reg.predict(x_test)\n",
    "    print('Calculated MSE is {}'.format(mean_squared_error(y_test, y_pred)))\n",
    "    \n",
    "    r2 = reg.score(x_test, y_test)\n",
    "    print('Calculated R^2 is {}'.format(r2))\n",
    "    \n",
    "    return reg"
   ]
  },
  {
   "cell_type": "code",
   "execution_count": null,
   "metadata": {},
   "outputs": [],
   "source": [
    "def split_model_evaluate(features, target):\n",
    "    '''Splits the dataset into train and test data, create model, and evaluate the model with MSE score'''\n",
    "    \n",
    "    # Split\n",
    "    x_train, x_test, y_train, y_test = train_test_split(features, target, test_size =0.33, random_state=8)\n",
    "    \n",
    "    # Model\n",
    "    model = RandomForestRegressor(random_state=0)\n",
    "    model.fit(x_train, y_train)\n",
    "    \n",
    "    # Evaluate\n",
    "    y_pred = model.predict(x_test)\n",
    "    print('Calculated MSE is {}'.format(mean_squared_error(y_test, y_pred)))\n",
    "    \n",
    "    r2 = model.score(x_test, y_test)\n",
    "    print('Calculated R^2 is {}'.format(r2))\n",
    "    \n",
    "    return model"
   ]
  },
  {
   "cell_type": "code",
   "execution_count": null,
   "metadata": {},
   "outputs": [],
   "source": [
    "def plot_feature_importance(features, model):\n",
    "    '''Calculates the feature importance from the created model and plots the graph'''\n",
    "    \n",
    "    plt.bar(features.columns, model.feature_importances_)\n",
    "    plt.xticks(rotation='vertical')\n",
    "    plt.show;\n",
    "    print(model.feature_importances_)"
   ]
  },
  {
   "cell_type": "code",
   "execution_count": null,
   "metadata": {},
   "outputs": [],
   "source": [
    "def save_model(model, filepath):\n",
    "    '''Saves the created model to the designated file path'''\n",
    "    \n",
    "    joblib.dump(model, filepath)\n",
    "    \n",
    "    print(\"{} is saved.\".format(model)) "
   ]
  },
  {
   "cell_type": "markdown",
   "metadata": {},
   "source": [
    "# CRISP-DM"
   ]
  },
  {
   "cell_type": "markdown",
   "metadata": {},
   "source": [
    "In this notebook, most of results are handled rougly. For further information, please look into the following blog post.   https://medium.com/@lim.andrew1/trying-to-open-business-in-korea-here-is-the-market-research-ee03d616970b"
   ]
  },
  {
   "cell_type": "markdown",
   "metadata": {},
   "source": [
    "### Business Understanding"
   ]
  },
  {
   "cell_type": "markdown",
   "metadata": {},
   "source": [
    "**Q1. How much is the purchase volume across customers' Family Life Cycle (FLC), in the given period (2019.01.~2020.03.)?**"
   ]
  },
  {
   "cell_type": "markdown",
   "metadata": {},
   "source": [
    "**Q2. How much is the purchase volume across the industry sectors?**"
   ]
  },
  {
   "cell_type": "markdown",
   "metadata": {},
   "source": [
    "**Q3. How much is the median purchase volume across the month, and does the purchase volume increase in the peak season?**"
   ]
  },
  {
   "cell_type": "markdown",
   "metadata": {},
   "source": [
    "### Data Understanding"
   ]
  },
  {
   "cell_type": "code",
   "execution_count": null,
   "metadata": {},
   "outputs": [],
   "source": [
    "# Load data\n",
    "df = load_data()"
   ]
  },
  {
   "cell_type": "code",
   "execution_count": null,
   "metadata": {},
   "outputs": [],
   "source": [
    "# The number of nulls in the dataset\n",
    "df.isnull().sum()"
   ]
  },
  {
   "cell_type": "code",
   "execution_count": null,
   "metadata": {},
   "outputs": [],
   "source": [
    "# The duplicated data in the dataset\n",
    "df[df.duplicated()]"
   ]
  },
  {
   "cell_type": "markdown",
   "metadata": {},
   "source": [
    "The data set didn't have duplicated rows. There are some null values in CARD_CCG_NM, and HOM_CCG_NM, but it's not a huddle because these columns are unnecessary for this current research."
   ]
  },
  {
   "cell_type": "markdown",
   "metadata": {},
   "source": [
    "### Data Wrangling"
   ]
  },
  {
   "cell_type": "code",
   "execution_count": null,
   "metadata": {},
   "outputs": [],
   "source": [
    "# Glimpse of dataset\n",
    "df.head()"
   ]
  },
  {
   "cell_type": "code",
   "execution_count": null,
   "metadata": {},
   "outputs": [],
   "source": [
    "df = clean_dataframe(df)"
   ]
  },
  {
   "cell_type": "markdown",
   "metadata": {},
   "source": [
    "For the convinience in treating time frame data, the REG_YYMM column is separated in to year and month columns. And then the original column, REG_YYMM, is dropped. Missing values aren't treated yet, but will be treated after plotting graphs."
   ]
  },
  {
   "cell_type": "markdown",
   "metadata": {},
   "source": [
    "### Data Analysis with Visualization"
   ]
  },
  {
   "cell_type": "markdown",
   "metadata": {},
   "source": [
    "For the interpretation of visualizations and the analysis, please move to the blog post.  \n",
    "https://medium.com/@lim.andrew1/trying-to-open-business-in-korea-here-is-the-market-research-ee03d616970b"
   ]
  },
  {
   "cell_type": "code",
   "execution_count": null,
   "metadata": {},
   "outputs": [],
   "source": [
    "plot_distribution(df)"
   ]
  },
  {
   "cell_type": "code",
   "execution_count": null,
   "metadata": {},
   "outputs": [],
   "source": [
    "plot_flc_graph(df)"
   ]
  },
  {
   "cell_type": "code",
   "execution_count": null,
   "metadata": {},
   "outputs": [],
   "source": [
    "plot_clss_graph(df)"
   ]
  },
  {
   "cell_type": "code",
   "execution_count": null,
   "metadata": {},
   "outputs": [],
   "source": [
    "plot_month_graph(df)"
   ]
  },
  {
   "cell_type": "code",
   "execution_count": null,
   "metadata": {},
   "outputs": [],
   "source": [
    "plt.figure(figsize=(15, 15))\n",
    "sns.heatmap(data=df.corr(), annot=True,\n",
    "            fmt= '.2f', linewidths=.5, cmap='Blues')"
   ]
  },
  {
   "cell_type": "markdown",
   "metadata": {},
   "source": [
    "### Prepare Data"
   ]
  },
  {
   "cell_type": "code",
   "execution_count": null,
   "metadata": {},
   "outputs": [],
   "source": [
    "df, label_encoders = encode_label(prepare_data(df))"
   ]
  },
  {
   "cell_type": "code",
   "execution_count": null,
   "metadata": {},
   "outputs": [],
   "source": [
    "features, target = engineer_features(df)"
   ]
  },
  {
   "cell_type": "code",
   "execution_count": null,
   "metadata": {},
   "outputs": [],
   "source": [
    "features.head()"
   ]
  },
  {
   "cell_type": "markdown",
   "metadata": {},
   "source": [
    "### Data Modeling & Evaluating the Results"
   ]
  },
  {
   "cell_type": "markdown",
   "metadata": {},
   "source": [
    "**Random Forest**"
   ]
  },
  {
   "cell_type": "code",
   "execution_count": null,
   "metadata": {},
   "outputs": [],
   "source": [
    "model = split_model_evaluate(features, target)"
   ]
  },
  {
   "cell_type": "code",
   "execution_count": null,
   "metadata": {
    "scrolled": true
   },
   "outputs": [],
   "source": [
    "plot_feature_importance(features, model)"
   ]
  },
  {
   "cell_type": "code",
   "execution_count": null,
   "metadata": {},
   "outputs": [],
   "source": [
    "save_model(model, \"model.pkl\")"
   ]
  },
  {
   "cell_type": "markdown",
   "metadata": {},
   "source": [
    "**SVM Regression**"
   ]
  },
  {
   "cell_type": "code",
   "execution_count": null,
   "metadata": {},
   "outputs": [],
   "source": [
    "reg = svr_pipeline(features, target)"
   ]
  },
  {
   "cell_type": "code",
   "execution_count": null,
   "metadata": {},
   "outputs": [],
   "source": [
    "save_model(reg, \"reg.pkl\")"
   ]
  },
  {
   "cell_type": "markdown",
   "metadata": {},
   "source": [
    "### Deploy"
   ]
  },
  {
   "cell_type": "markdown",
   "metadata": {},
   "source": [
    "The results of the research is shared in blog post. The link is written below.  \n",
    "https://medium.com/@lim.andrew1/trying-to-open-business-in-korea-here-is-the-market-research-ee03d616970b"
   ]
  }
 ],
 "metadata": {
  "kernelspec": {
   "display_name": "Python 3",
   "language": "python",
   "name": "python3"
  },
  "language_info": {
   "codemirror_mode": {
    "name": "ipython",
    "version": 3
   },
   "file_extension": ".py",
   "mimetype": "text/x-python",
   "name": "python",
   "nbconvert_exporter": "python",
   "pygments_lexer": "ipython3",
   "version": "3.8.3"
  }
 },
 "nbformat": 4,
 "nbformat_minor": 4
}
